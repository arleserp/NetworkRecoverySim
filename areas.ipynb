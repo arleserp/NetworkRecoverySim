{
 "cells": [
  {
   "cell_type": "code",
   "execution_count": 1,
   "metadata": {},
   "outputs": [
    {
     "name": "stdout",
     "output_type": "stream",
     "text": [
      "E:\\GithubRep\\HopExperiments\\025\\BigNetwork25Exphops4\n"
     ]
    }
   ],
   "source": [
    "import csv\n",
    "import numpy as np\n",
    "from scipy.integrate import simps\n",
    "from numpy import trapz\n",
    "\n",
    "import os\n",
    "print(os.getcwd())\n",
    "\n",
    "def getAreas(filename, rounds = 100000):\n",
    "    with open(filename) as csv_file:\n",
    "        csv_reader = csv.reader(csv_file, delimiter=',')\n",
    "        line_count = 0\n",
    "        minArr = []\n",
    "        medArr = []\n",
    "        maxArr = []\n",
    "        \n",
    "        for row in csv_reader:\n",
    "            if line_count <= rounds:\n",
    "                minArr.append(float(row[0]))\n",
    "                medArr.append(float(row[1]))\n",
    "                maxArr.append(float(row[2]))\n",
    "                line_count += 1\n",
    "\n",
    "        maxA = np.array(maxArr)\n",
    "\n",
    "        # Compute the area using the composite trapezoidal rule.\n",
    "        #area = trapz(maxA, dx=5)\n",
    "        #print(\"Max area =\", area)\n",
    "\n",
    "        # Compute the area using the composite Simpson's rule.\n",
    "        maxarea = simps(maxA, dx=5)\n",
    "        #print(\"Max area =\", area)\n",
    "\n",
    "        medA = np.array(medArr)\n",
    "\n",
    "        # Compute the area using the composite trapezoidal rule.\n",
    "        #area = trapz(medA, dx=5)\n",
    "        #print(\"Max area =\", area)\n",
    "\n",
    "        # Compute the area using the composite Simpson's rule.\n",
    "        medarea = simps(medA, dx=5)\n",
    "        #print(\"Median area =\", area)\n",
    "\n",
    "        minA = np.array(minArr)\n",
    "\n",
    "        # Compute the area using the composite trapezoidal rule.\n",
    "        #area = trapz(minA, dx=5)\n",
    "        #print(\"Min area =\", area)\n",
    "\n",
    "        # Compute the area using the composite Simpson's rule.\n",
    "        minarea = simps(minA, dx=5)\n",
    "        #print(\"Min area =\", area)\n",
    "        print(maxarea, medarea, minarea)\n"
   ]
  },
  {
   "cell_type": "markdown",
   "metadata": {},
   "source": [
    "Size Messages Received 0, 25, 50"
   ]
  },
  {
   "cell_type": "code",
   "execution_count": 2,
   "metadata": {},
   "outputs": [
    {
     "name": "stdout",
     "output_type": "stream",
     "text": [
      "1731875914.5833335 1032274075.8333334 528540348.3333334\n"
     ]
    }
   ],
   "source": [
    "getAreas(\"exp+ps+0+pf+0.25+mode+FirstNeighbor+maxIter+50+e+1273+v+512+load+replalgon+NODELAY+nhopsinfo+redFactor+3+localstatsrecvlocalSizeMsgRecv.csv\")"
   ]
  },
  {
   "cell_type": "code",
   "execution_count": 4,
   "metadata": {},
   "outputs": [
    {
     "name": "stdout",
     "output_type": "stream",
     "text": [
      "2300535721.6666665 1561724900.0 983397516.6666666\n"
     ]
    }
   ],
   "source": [
    "getAreas(\"exp+ps+512+pf+0.5+mode+FirstNeighbor+maxIter+63+e+1273+v+512+load+replalgon+NODELAY+mobileAgents+redFactor+3+localstatsrecvlocalSizeMsgRecv.csv\")"
   ]
  },
  {
   "cell_type": "code",
   "execution_count": 5,
   "metadata": {},
   "outputs": [
    {
     "name": "stdout",
     "output_type": "stream",
     "text": [
      "2438443703.3333335 1707018140.0000002 1110655410.0\n"
     ]
    }
   ],
   "source": [
    "getAreas(\"exp+ps+512+pf+0.5+mode+FirstNeighbor+maxIter+63+e+1273+v+512+load+replalgon+NODELAY+mobileAgents+redFactor+5+localstatsrecvlocalSizeMsgRecv.csv\")"
   ]
  },
  {
   "cell_type": "markdown",
   "metadata": {},
   "source": [
    "Size Messages Received 30, 55, 80"
   ]
  },
  {
   "cell_type": "code",
   "execution_count": 9,
   "metadata": {},
   "outputs": [
    {
     "name": "stdout",
     "output_type": "stream",
     "text": [
      "7174240759.583334 5035839982.708334 3603776460.0000005\n"
     ]
    }
   ],
   "source": [
    "getAreas(\"exp+ps+0+pf+0.5+mode+carriersrep+maxIter+88+e+1273+v+512+load+replalgon+NODELAY+trickle+redFactor+3+localstatsrecvlocalSizeMsgRecv.csv\")"
   ]
  },
  {
   "cell_type": "code",
   "execution_count": 10,
   "metadata": {},
   "outputs": [
    {
     "name": "stdout",
     "output_type": "stream",
     "text": [
      "3457276921.25 2357917621.666667 1512524987.9166667\n"
     ]
    }
   ],
   "source": [
    "getAreas(\"exp+ps+512+pf+0.5+mode+FirstNeighbor+maxIter+88+e+1273+v+512+load+replalgon+NODELAY+mobileAgents+redFactor+3+localstatsrecvlocalSizeMsgRecv.csv\")"
   ]
  },
  {
   "cell_type": "code",
   "execution_count": 11,
   "metadata": {},
   "outputs": [
    {
     "name": "stdout",
     "output_type": "stream",
     "text": [
      "3898887983.75 2649159946.041667 1710994930.4166665\n"
     ]
    }
   ],
   "source": [
    "getAreas(\"exp+ps+512+pf+0.5+mode+FirstNeighbor+maxIter+88+e+1273+v+512+load+replalgon+NODELAY+mobileAgents+redFactor+5+localstatsrecvlocalSizeMsgRecv.csv\")"
   ]
  },
  {
   "cell_type": "markdown",
   "metadata": {},
   "source": [
    "Number of Messages Received 13, 38, 63"
   ]
  },
  {
   "cell_type": "code",
   "execution_count": 15,
   "metadata": {},
   "outputs": [
    {
     "name": "stdout",
     "output_type": "stream",
     "text": [
      "1735918.3333333335 1254759.1666666667 859496.6666666667\n"
     ]
    }
   ],
   "source": [
    "getAreas(\"exp+ps+0+pf+0.5+mode+carriersrep+maxIter+63+e+1273+v+512+load+replalgon+NODELAY+trickle+redFactor+3+localstatsrecvlocalNumberMsgRecv.csv\")"
   ]
  },
  {
   "cell_type": "code",
   "execution_count": 16,
   "metadata": {},
   "outputs": [
    {
     "name": "stdout",
     "output_type": "stream",
     "text": [
      "2965705.0000000005 2289820.0 1646231.6666666665\n"
     ]
    }
   ],
   "source": [
    "getAreas(\"exp+ps+512+pf+0.5+mode+FirstNeighbor+maxIter+63+e+1273+v+512+load+replalgon+NODELAY+mobileAgents+redFactor+3+localstatsrecvlocalNumberMsgRecv.csv\")"
   ]
  },
  {
   "cell_type": "code",
   "execution_count": 17,
   "metadata": {},
   "outputs": [
    {
     "name": "stdout",
     "output_type": "stream",
     "text": [
      "3136226.666666667 2447145.0 1779003.3333333335\n"
     ]
    }
   ],
   "source": [
    "getAreas(\"exp+ps+512+pf+0.5+mode+FirstNeighbor+maxIter+63+e+1273+v+512+load+replalgon+NODELAY+mobileAgents+redFactor+5+localstatsrecvlocalNumberMsgRecv.csv\")"
   ]
  },
  {
   "cell_type": "markdown",
   "metadata": {},
   "source": [
    "Number of Messages Received 38, 63, 88"
   ]
  },
  {
   "cell_type": "code",
   "execution_count": 18,
   "metadata": {},
   "outputs": [
    {
     "name": "stdout",
     "output_type": "stream",
     "text": [
      "2094212.916666667 1589281.0416666667 1161707.5000000002\n"
     ]
    }
   ],
   "source": [
    "getAreas(\"exp+ps+0+pf+0.5+mode+carriersrep+maxIter+88+e+1273+v+512+load+replalgon+NODELAY+trickle+redFactor+3+localstatsrecvlocalNumberMsgRecv.csv\")"
   ]
  },
  {
   "cell_type": "code",
   "execution_count": 19,
   "metadata": {},
   "outputs": [
    {
     "name": "stdout",
     "output_type": "stream",
     "text": [
      "4122791.25 3084112.291666667 2213302.916666667\n"
     ]
    }
   ],
   "source": [
    "getAreas(\"exp+ps+512+pf+0.5+mode+FirstNeighbor+maxIter+88+e+1273+v+512+load+replalgon+NODELAY+mobileAgents+redFactor+3+localstatsrecvlocalNumberMsgRecv.csv\")"
   ]
  },
  {
   "cell_type": "code",
   "execution_count": 20,
   "metadata": {},
   "outputs": [
    {
     "name": "stdout",
     "output_type": "stream",
     "text": [
      "4518653.75 3345912.291666667 2377165.4166666665\n"
     ]
    }
   ],
   "source": [
    "getAreas(\"exp+ps+512+pf+0.5+mode+FirstNeighbor+maxIter+88+e+1273+v+512+load+replalgon+NODELAY+mobileAgents+redFactor+5+localstatsrecvlocalNumberMsgRecv.csv\")"
   ]
  },
  {
   "cell_type": "markdown",
   "metadata": {},
   "source": [
    "Memory usage 13, 38, 63"
   ]
  },
  {
   "cell_type": "markdown",
   "metadata": {},
   "source": [
    "Trickle"
   ]
  },
  {
   "cell_type": "code",
   "execution_count": 21,
   "metadata": {},
   "outputs": [
    {
     "name": "stdout",
     "output_type": "stream",
     "text": [
      "3646907868.3333335 3305273061.666667 2944071945.0\n"
     ]
    }
   ],
   "source": [
    "getAreas(\"exp+ps+0+pf+0.5+mode+carriersrep+maxIter+63+e+1273+v+512+load+replalgon+NODELAY+trickle+redFactor+3+resourcesmemoryConsumption.csv\")"
   ]
  },
  {
   "cell_type": "markdown",
   "metadata": {},
   "source": [
    "Nodes - Mobile Agents"
   ]
  },
  {
   "cell_type": "code",
   "execution_count": 22,
   "metadata": {},
   "outputs": [
    {
     "name": "stdout",
     "output_type": "stream",
     "text": [
      "3168262568.3333335 2782982161.666667 2397208586.666667\n"
     ]
    }
   ],
   "source": [
    "getAreas(\"exp+ps+512+pf+0.5+mode+FirstNeighbor+maxIter+63+e+1273+v+512+load+replalgon+NODELAY+mobileAgents+redFactor+3+resourcesmemoryConsumption.csv\")"
   ]
  },
  {
   "cell_type": "code",
   "execution_count": 23,
   "metadata": {},
   "outputs": [
    {
     "name": "stdout",
     "output_type": "stream",
     "text": [
      "3165615505.0 2793717878.3333335 2423844838.3333335\n"
     ]
    }
   ],
   "source": [
    "getAreas(\"exp+ps+512+pf+0.5+mode+FirstNeighbor+maxIter+63+e+1273+v+512+load+replalgon+NODELAY+mobileAgents+redFactor+5+resourcesmemoryConsumption.csv\")"
   ]
  },
  {
   "cell_type": "markdown",
   "metadata": {},
   "source": [
    "Agents"
   ]
  },
  {
   "cell_type": "code",
   "execution_count": 24,
   "metadata": {},
   "outputs": [
    {
     "name": "stdout",
     "output_type": "stream",
     "text": [
      "1830219806.666667 1345983370.0 922080680.0000001\n"
     ]
    }
   ],
   "source": [
    "getAreas(\"exp+ps+512+pf+0.5+mode+FirstNeighbor+maxIter+63+e+1273+v+512+load+replalgon+NODELAY+mobileAgents+redFactor+3+resourcesMamemoryConsumptionMa.csv\")"
   ]
  },
  {
   "cell_type": "code",
   "execution_count": 25,
   "metadata": {},
   "outputs": [
    {
     "name": "stdout",
     "output_type": "stream",
     "text": [
      "1988456456.666667 1505609951.6666667 1063786243.3333334\n"
     ]
    }
   ],
   "source": [
    "getAreas(\"exp+ps+512+pf+0.5+mode+FirstNeighbor+maxIter+63+e+1273+v+512+load+replalgon+NODELAY+mobileAgents+redFactor+5+resourcesMamemoryConsumptionMa.csv\")"
   ]
  },
  {
   "cell_type": "markdown",
   "metadata": {},
   "source": [
    "Memory usage 30, 55, 88"
   ]
  },
  {
   "cell_type": "markdown",
   "metadata": {},
   "source": [
    "Trickle"
   ]
  },
  {
   "cell_type": "code",
   "execution_count": 26,
   "metadata": {},
   "outputs": [
    {
     "name": "stdout",
     "output_type": "stream",
     "text": [
      "5506398396.25 5143623384.166667 4779887956.25\n"
     ]
    }
   ],
   "source": [
    "getAreas(\"exp+ps+0+pf+0.5+mode+carriersrep+maxIter+88+e+1273+v+512+load+replalgon+NODELAY+trickle+redFactor+3+resourcesmemoryConsumption.csv\")"
   ]
  },
  {
   "cell_type": "markdown",
   "metadata": {},
   "source": [
    "Nodes - Mobile Agents"
   ]
  },
  {
   "cell_type": "code",
   "execution_count": 27,
   "metadata": {},
   "outputs": [
    {
     "name": "stdout",
     "output_type": "stream",
     "text": [
      "4948239587.5 4544965297.5 4148432242.5\n"
     ]
    }
   ],
   "source": [
    "getAreas(\"exp+ps+512+pf+0.5+mode+FirstNeighbor+maxIter+88+e+1273+v+512+load+replalgon+NODELAY+mobileAgents+redFactor+3+resourcesmemoryConsumption.csv\")"
   ]
  },
  {
   "cell_type": "code",
   "execution_count": 28,
   "metadata": {},
   "outputs": [
    {
     "name": "stdout",
     "output_type": "stream",
     "text": [
      "4990079032.5 4578712311.25 4190371197.5\n"
     ]
    }
   ],
   "source": [
    "getAreas(\"exp+ps+512+pf+0.5+mode+FirstNeighbor+maxIter+88+e+1273+v+512+load+replalgon+NODELAY+mobileAgents+redFactor+5+resourcesmemoryConsumption.csv\")"
   ]
  },
  {
   "cell_type": "markdown",
   "metadata": {},
   "source": [
    "Mobile Agents "
   ]
  },
  {
   "cell_type": "code",
   "execution_count": 29,
   "metadata": {},
   "outputs": [
    {
     "name": "stdout",
     "output_type": "stream",
     "text": [
      "2679096194.5833335 1920978799.5833335 1313048304.5833335\n"
     ]
    }
   ],
   "source": [
    "getAreas(\"exp+ps+512+pf+0.5+mode+FirstNeighbor+maxIter+88+e+1273+v+512+load+replalgon+NODELAY+mobileAgents+redFactor+3+resourcesMamemoryConsumptionMa.csv\")"
   ]
  },
  {
   "cell_type": "code",
   "execution_count": 32,
   "metadata": {},
   "outputs": [
    {
     "name": "stdout",
     "output_type": "stream",
     "text": [
      "3091965854.5833335 2247907362.0833335 1572472259.5833335\n"
     ]
    }
   ],
   "source": [
    "getAreas(\"exp+ps+512+pf+0.5+mode+FirstNeighbor+maxIter+88+e+1273+v+512+load+replalgon+NODELAY+mobileAgents+redFactor+5+resourcesMamemoryConsumptionMa.csv\")"
   ]
  },
  {
   "cell_type": "code",
   "execution_count": null,
   "metadata": {},
   "outputs": [],
   "source": []
  }
 ],
 "metadata": {
  "kernelspec": {
   "display_name": "Python 3",
   "language": "python",
   "name": "python3"
  },
  "language_info": {
   "codemirror_mode": {
    "name": "ipython",
    "version": 3
   },
   "file_extension": ".py",
   "mimetype": "text/x-python",
   "name": "python",
   "nbconvert_exporter": "python",
   "pygments_lexer": "ipython3",
   "version": "3.7.3"
  }
 },
 "nbformat": 4,
 "nbformat_minor": 2
}
