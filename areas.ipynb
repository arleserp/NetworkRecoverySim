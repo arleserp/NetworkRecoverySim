{
 "cells": [
  {
   "cell_type": "code",
   "execution_count": 1,
   "metadata": {},
   "outputs": [
    {
     "name": "stdout",
     "output_type": "stream",
     "text": [
      "E:\\GithubRep\\JAAMAS\\SyncMa\\BigNetwork25Exp\n"
     ]
    }
   ],
   "source": [
    "import csv\n",
    "import numpy as np\n",
    "from scipy.integrate import simps\n",
    "from numpy import trapz\n",
    "\n",
    "import os\n",
    "print(os.getcwd())\n",
    "\n",
    "def getAreas(filename):\n",
    "    with open(filename) as csv_file:\n",
    "        csv_reader = csv.reader(csv_file, delimiter=',')\n",
    "        line_count = 0\n",
    "        minArr = []\n",
    "        medArr = []\n",
    "        maxArr = []\n",
    "        for row in csv_reader:\n",
    "            minArr.append(float(row[0]))\n",
    "            medArr.append(float(row[1]))\n",
    "            maxArr.append(float(row[2]))\n",
    "\n",
    "        maxA = np.array(maxArr)\n",
    "\n",
    "        # Compute the area using the composite trapezoidal rule.\n",
    "        area = trapz(maxA, dx=5)\n",
    "        print(\"Max area =\", area)\n",
    "\n",
    "        # Compute the area using the composite Simpson's rule.\n",
    "        area = simps(maxA, dx=5)\n",
    "        print(\"Max area =\", area)\n",
    "\n",
    "        medA = np.array(medArr)\n",
    "\n",
    "        # Compute the area using the composite trapezoidal rule.\n",
    "        area = trapz(medA, dx=5)\n",
    "        print(\"Max area =\", area)\n",
    "\n",
    "        # Compute the area using the composite Simpson's rule.\n",
    "        area = simps(medA, dx=5)\n",
    "        print(\"Max area =\", area)\n",
    "\n",
    "        minA = np.array(minArr)\n",
    "\n",
    "        # Compute the area using the composite trapezoidal rule.\n",
    "        area = trapz(minA, dx=5)\n",
    "        print(\"Min area =\", area)\n",
    "\n",
    "        # Compute the area using the composite Simpson's rule.\n",
    "        area = simps(minA, dx=5)\n",
    "        print(\"Min area =\", area)\n"
   ]
  },
  {
   "cell_type": "code",
   "execution_count": 4,
   "metadata": {},
   "outputs": [
    {
     "name": "stdout",
     "output_type": "stream",
     "text": [
      "Max area = 153822.5\n",
      "Max area = 153963.75\n",
      "Max area = 125263.75\n",
      "Max area = 125360.83333333333\n",
      "Min area = 101862.5\n",
      "Min area = 101895.41666666666\n"
     ]
    }
   ],
   "source": [
    "getAreas(\"exp+ps+0+pf+0.0+mode+carriersrep+maxIter+50+e+1273+v+512+load+replalgoff+NODELAY+trickle+redFactor+3+localstatsrecvlocalNumberMsgRecv.csv\")"
   ]
  },
  {
   "cell_type": "code",
   "execution_count": 5,
   "metadata": {},
   "outputs": [
    {
     "name": "stdout",
     "output_type": "stream",
     "text": [
      "Max area = 148130.0\n",
      "Max area = 148076.25\n",
      "Max area = 123080.0\n",
      "Max area = 123055.0\n",
      "Min area = 102947.5\n",
      "Min area = 102931.25000000001\n"
     ]
    }
   ],
   "source": [
    "getAreas(\"exp+ps+0+pf+0.0+mode+carriersrep+maxIter+50+e+1273+v+512+load+replalgoff+NODELAY+trickle+redFactor+3+localstatssentlocalNumberMsgSent.csv\")"
   ]
  },
  {
   "cell_type": "code",
   "execution_count": null,
   "metadata": {},
   "outputs": [],
   "source": []
  },
  {
   "cell_type": "code",
   "execution_count": null,
   "metadata": {},
   "outputs": [],
   "source": []
  }
 ],
 "metadata": {
  "kernelspec": {
   "display_name": "Python 3",
   "language": "python",
   "name": "python3"
  },
  "language_info": {
   "codemirror_mode": {
    "name": "ipython",
    "version": 3
   },
   "file_extension": ".py",
   "mimetype": "text/x-python",
   "name": "python",
   "nbconvert_exporter": "python",
   "pygments_lexer": "ipython3",
   "version": "3.7.3"
  }
 },
 "nbformat": 4,
 "nbformat_minor": 2
}
