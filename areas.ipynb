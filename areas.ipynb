{
 "cells": [
  {
   "cell_type": "code",
   "execution_count": 3,
   "metadata": {},
   "outputs": [
    {
     "name": "stdout",
     "output_type": "stream",
     "text": [
      "E:\\GithubRep\\JAAMAS\\Smallworls25Exppf05\n"
     ]
    }
   ],
   "source": [
    "import csv\n",
    "import numpy as np\n",
    "from scipy.integrate import simps\n",
    "from numpy import trapz\n",
    "\n",
    "import os\n",
    "print(os.getcwd())\n",
    "\n",
    "def getAreas(filename):\n",
    "    with open(filename) as csv_file:\n",
    "        csv_reader = csv.reader(csv_file, delimiter=',')\n",
    "        line_count = 0\n",
    "        minArr = []\n",
    "        medArr = []\n",
    "        maxArr = []\n",
    "        for row in csv_reader:\n",
    "            minArr.append(float(row[0]))\n",
    "            medArr.append(float(row[1]))\n",
    "            maxArr.append(float(row[2]))\n",
    "\n",
    "        maxA = np.array(maxArr)\n",
    "\n",
    "        # Compute the area using the composite trapezoidal rule.\n",
    "        area = trapz(maxA, dx=5)\n",
    "        print(\"Max area =\", area)\n",
    "\n",
    "        # Compute the area using the composite Simpson's rule.\n",
    "        area = simps(maxA, dx=5)\n",
    "        print(\"Max area =\", area)\n",
    "\n",
    "        medA = np.array(medArr)\n",
    "\n",
    "        # Compute the area using the composite trapezoidal rule.\n",
    "        area = trapz(medA, dx=5)\n",
    "        print(\"Max area =\", area)\n",
    "\n",
    "        # Compute the area using the composite Simpson's rule.\n",
    "        area = simps(medA, dx=5)\n",
    "        print(\"Max area =\", area)\n",
    "\n",
    "        minA = np.array(minArr)\n",
    "\n",
    "        # Compute the area using the composite trapezoidal rule.\n",
    "        area = trapz(minA, dx=5)\n",
    "        print(\"Min area =\", area)\n",
    "\n",
    "        # Compute the area using the composite Simpson's rule.\n",
    "        area = simps(minA, dx=5)\n",
    "        print(\"Min area =\", area)\n"
   ]
  },
  {
   "cell_type": "code",
   "execution_count": 8,
   "metadata": {},
   "outputs": [
    {
     "name": "stdout",
     "output_type": "stream",
     "text": [
      "Max area = 258486275.0\n",
      "Max area = 258527895.00000003\n",
      "Max area = 189892775.0\n",
      "Max area = 189921458.75\n",
      "Min area = 130839940.0\n",
      "Min area = 130871898.75\n"
     ]
    }
   ],
   "source": [
    "getAreas(\"exp+ps+0+pf+0.5+mode+carriersrep+maxIter+50+e+200+v+100+smallworld+v+100+beta+0.5+degree+2+replalgon+NODELAY+trickle+redFactor+3+localstatsrecvlocalstatsrecv+Total+Node+SizeRecv.csv\")"
   ]
  },
  {
   "cell_type": "code",
   "execution_count": 9,
   "metadata": {},
   "outputs": [
    {
     "name": "stdout",
     "output_type": "stream",
     "text": [
      "Max area = 213002252.5\n",
      "Max area = 213090765.00000003\n",
      "Max area = 112421331.25\n",
      "Max area = 112494803.75\n",
      "Min area = 55848467.5\n",
      "Min area = 55872437.916666664\n"
     ]
    }
   ],
   "source": [
    "getAreas(\"exp+ps+100+pf+0.5+mode+FirstNeighbor+maxIter+50+e+200+v+100+smallworld+v+100+beta+0.5+degree+2+replalgon+NODELAY+mobileAgents+redFactor+5+localstatsrecvlocalstatsrecv+Total+Node+SizeRecv.csv\")"
   ]
  },
  {
   "cell_type": "code",
   "execution_count": null,
   "metadata": {},
   "outputs": [],
   "source": []
  },
  {
   "cell_type": "code",
   "execution_count": null,
   "metadata": {},
   "outputs": [],
   "source": []
  }
 ],
 "metadata": {
  "kernelspec": {
   "display_name": "Python 3",
   "language": "python",
   "name": "python3"
  },
  "language_info": {
   "codemirror_mode": {
    "name": "ipython",
    "version": 3
   },
   "file_extension": ".py",
   "mimetype": "text/x-python",
   "name": "python",
   "nbconvert_exporter": "python",
   "pygments_lexer": "ipython3",
   "version": "3.7.3"
  }
 },
 "nbformat": 4,
 "nbformat_minor": 2
}
