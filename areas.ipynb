{
 "cells": [
  {
   "cell_type": "code",
   "execution_count": 1,
   "metadata": {},
   "outputs": [
    {
     "name": "stdout",
     "output_type": "stream",
     "text": [
      "E:\\codes\\NetworkRecoverySim\n"
     ]
    }
   ],
   "source": [
    "import csv\n",
    "import numpy as np\n",
    "from scipy.integrate import simps\n",
    "from numpy import trapz\n",
    "\n",
    "import os\n",
    "print(os.getcwd())\n",
    "\n",
    "def getAreas(filename):\n",
    "    with open(filename) as csv_file:\n",
    "        csv_reader = csv.reader(csv_file, delimiter=',')\n",
    "        line_count = 0\n",
    "        minArr = []\n",
    "        medArr = []\n",
    "        maxArr = []\n",
    "        for row in csv_reader:\n",
    "            minArr.append(float(row[0]))\n",
    "            medArr.append(float(row[1]))\n",
    "            maxArr.append(float(row[2]))\n",
    "\n",
    "        maxA = np.array(maxArr)\n",
    "\n",
    "        # Compute the area using the composite trapezoidal rule.\n",
    "        area = trapz(maxA, dx=5)\n",
    "        print(\"Max area =\", area)\n",
    "\n",
    "        # Compute the area using the composite Simpson's rule.\n",
    "        area = simps(maxA, dx=5)\n",
    "        print(\"Max area =\", area)\n",
    "\n",
    "        medA = np.array(medArr)\n",
    "\n",
    "        # Compute the area using the composite trapezoidal rule.\n",
    "        area = trapz(medA, dx=5)\n",
    "        print(\"Max area =\", area)\n",
    "\n",
    "        # Compute the area using the composite Simpson's rule.\n",
    "        area = simps(medA, dx=5)\n",
    "        print(\"Max area =\", area)\n",
    "\n",
    "        minA = np.array(minArr)\n",
    "\n",
    "        # Compute the area using the composite trapezoidal rule.\n",
    "        area = trapz(minA, dx=5)\n",
    "        print(\"Min area =\", area)\n",
    "\n",
    "        # Compute the area using the composite Simpson's rule.\n",
    "        area = simps(minA, dx=5)\n",
    "        print(\"Min area =\", area)\n"
   ]
  },
  {
   "cell_type": "code",
   "execution_count": 4,
   "metadata": {},
   "outputs": [
    {
     "name": "stdout",
     "output_type": "stream",
     "text": [
      "Max area = 2789587822.5\n",
      "Max area = 2790614141.25\n",
      "Max area = 2789587822.5\n",
      "Max area = 2790614141.25\n",
      "Min area = 2789587822.5\n",
      "Min area = 2790614141.25\n"
     ]
    }
   ],
   "source": [
    "getAreas(\"exp+ps+0+pf+0.0+mode+carriersrep+maxIter+50+e+1273+v+512+load+replalgoff+NODELAY+trickle+redFactor+3+localstatsrecvlocalSizeMsgRecv.csv\")"
   ]
  },
  {
   "cell_type": "code",
   "execution_count": 5,
   "metadata": {},
   "outputs": [
    {
     "name": "stdout",
     "output_type": "stream",
     "text": [
      "Max area = 2793662167.5\n",
      "Max area = 2795129787.916667\n",
      "Max area = 2793662167.5\n",
      "Max area = 2795129787.916667\n",
      "Min area = 2793662167.5\n",
      "Min area = 2795129787.916667\n"
     ]
    }
   ],
   "source": [
    "getAreas(\"exp+ps+0+pf+0.0+mode+carriersrep+maxIter+50+e+1273+v+512+load+replalgoff+NODELAY+trickle+redFactor+3+localstatssentlocalSizeMsgSent.csv\")"
   ]
  },
  {
   "cell_type": "markdown",
   "metadata": {},
   "source": [
    "    Messages Sent No Failure"
   ]
  },
  {
   "cell_type": "code",
   "execution_count": 16,
   "metadata": {},
   "outputs": [
    {
     "ename": "FileNotFoundError",
     "evalue": "[Errno 2] No such file or directory: 'exp+ps+128+pf+0.0+mode+FirstNeighbor+maxIter+50+e+1273+v+512+load+replalgoff+NODELAY+mobileAgents+redFactor+3+localstatsrecvlocalSizeMsgRecv.csv'",
     "output_type": "error",
     "traceback": [
      "\u001b[1;31m---------------------------------------------------------------------------\u001b[0m",
      "\u001b[1;31mFileNotFoundError\u001b[0m                         Traceback (most recent call last)",
      "\u001b[1;32m<ipython-input-16-bf01c06d83cc>\u001b[0m in \u001b[0;36m<module>\u001b[1;34m\u001b[0m\n\u001b[1;32m----> 1\u001b[1;33m \u001b[0mgetAreas\u001b[0m\u001b[1;33m(\u001b[0m\u001b[1;34m\"exp+ps+128+pf+0.0+mode+FirstNeighbor+maxIter+50+e+1273+v+512+load+replalgoff+NODELAY+mobileAgents+redFactor+3+localstatsrecvlocalSizeMsgRecv.csv\"\u001b[0m\u001b[1;33m)\u001b[0m\u001b[1;33m\u001b[0m\u001b[1;33m\u001b[0m\u001b[0m\n\u001b[0m",
      "\u001b[1;32m<ipython-input-1-4345d81f7d60>\u001b[0m in \u001b[0;36mgetAreas\u001b[1;34m(filename)\u001b[0m\n\u001b[0;32m      8\u001b[0m \u001b[1;33m\u001b[0m\u001b[0m\n\u001b[0;32m      9\u001b[0m \u001b[1;32mdef\u001b[0m \u001b[0mgetAreas\u001b[0m\u001b[1;33m(\u001b[0m\u001b[0mfilename\u001b[0m\u001b[1;33m)\u001b[0m\u001b[1;33m:\u001b[0m\u001b[1;33m\u001b[0m\u001b[1;33m\u001b[0m\u001b[0m\n\u001b[1;32m---> 10\u001b[1;33m     \u001b[1;32mwith\u001b[0m \u001b[0mopen\u001b[0m\u001b[1;33m(\u001b[0m\u001b[0mfilename\u001b[0m\u001b[1;33m)\u001b[0m \u001b[1;32mas\u001b[0m \u001b[0mcsv_file\u001b[0m\u001b[1;33m:\u001b[0m\u001b[1;33m\u001b[0m\u001b[1;33m\u001b[0m\u001b[0m\n\u001b[0m\u001b[0;32m     11\u001b[0m         \u001b[0mcsv_reader\u001b[0m \u001b[1;33m=\u001b[0m \u001b[0mcsv\u001b[0m\u001b[1;33m.\u001b[0m\u001b[0mreader\u001b[0m\u001b[1;33m(\u001b[0m\u001b[0mcsv_file\u001b[0m\u001b[1;33m,\u001b[0m \u001b[0mdelimiter\u001b[0m\u001b[1;33m=\u001b[0m\u001b[1;34m','\u001b[0m\u001b[1;33m)\u001b[0m\u001b[1;33m\u001b[0m\u001b[1;33m\u001b[0m\u001b[0m\n\u001b[0;32m     12\u001b[0m         \u001b[0mline_count\u001b[0m \u001b[1;33m=\u001b[0m \u001b[1;36m0\u001b[0m\u001b[1;33m\u001b[0m\u001b[1;33m\u001b[0m\u001b[0m\n",
      "\u001b[1;31mFileNotFoundError\u001b[0m: [Errno 2] No such file or directory: 'exp+ps+128+pf+0.0+mode+FirstNeighbor+maxIter+50+e+1273+v+512+load+replalgoff+NODELAY+mobileAgents+redFactor+3+localstatsrecvlocalSizeMsgRecv.csv'"
     ]
    }
   ],
   "source": [
    "getAreas(\"exp+ps+128+pf+0.0+mode+FirstNeighbor+maxIter+50+e+1273+v+512+load+replalgoff+NODELAY+mobileAgents+redFactor+3+localstatsrecvlocalSizeMsgRecv.csv\")"
   ]
  },
  {
   "cell_type": "code",
   "execution_count": 23,
   "metadata": {},
   "outputs": [
    {
     "name": "stdout",
     "output_type": "stream",
     "text": [
      "Max area = 2830836487.5\n",
      "Max area = 2832699804.166667\n",
      "Max area = 2830836487.5\n",
      "Max area = 2832699804.166667\n",
      "Min area = 2830836487.5\n",
      "Min area = 2832699804.166667\n"
     ]
    }
   ],
   "source": [
    "getAreas(\"exp+ps+0+pf+0.0+mode+carriersrep+maxIter+50+e+1273+v+512+load+replalgoff+NODELAY+trickle+redFactor+3+localstatsrecvlocalSizeMsgRecv.csv\")"
   ]
  },
  {
   "cell_type": "code",
   "execution_count": 15,
   "metadata": {},
   "outputs": [
    {
     "ename": "FileNotFoundError",
     "evalue": "[Errno 2] No such file or directory: 'exp+ps+0+pf+0.0+mode+carriersrep+maxIter+50+e+200+v+100+smallworld+v+100+beta+0.5+degree+2+replalgoff+NODELAY+trickle+redFactor+5+localstatssentlocalNumberMsgSent.csv'",
     "output_type": "error",
     "traceback": [
      "\u001b[1;31m---------------------------------------------------------------------------\u001b[0m",
      "\u001b[1;31mFileNotFoundError\u001b[0m                         Traceback (most recent call last)",
      "\u001b[1;32m<ipython-input-15-b7b3f8de7e88>\u001b[0m in \u001b[0;36m<module>\u001b[1;34m\u001b[0m\n\u001b[1;32m----> 1\u001b[1;33m \u001b[0mgetAreas\u001b[0m\u001b[1;33m(\u001b[0m\u001b[1;34m\"exp+ps+0+pf+0.0+mode+carriersrep+maxIter+50+e+200+v+100+smallworld+v+100+beta+0.5+degree+2+replalgoff+NODELAY+trickle+redFactor+5+localstatssentlocalNumberMsgSent.csv\"\u001b[0m\u001b[1;33m)\u001b[0m\u001b[1;33m\u001b[0m\u001b[1;33m\u001b[0m\u001b[0m\n\u001b[0m",
      "\u001b[1;32m<ipython-input-1-4345d81f7d60>\u001b[0m in \u001b[0;36mgetAreas\u001b[1;34m(filename)\u001b[0m\n\u001b[0;32m      8\u001b[0m \u001b[1;33m\u001b[0m\u001b[0m\n\u001b[0;32m      9\u001b[0m \u001b[1;32mdef\u001b[0m \u001b[0mgetAreas\u001b[0m\u001b[1;33m(\u001b[0m\u001b[0mfilename\u001b[0m\u001b[1;33m)\u001b[0m\u001b[1;33m:\u001b[0m\u001b[1;33m\u001b[0m\u001b[1;33m\u001b[0m\u001b[0m\n\u001b[1;32m---> 10\u001b[1;33m     \u001b[1;32mwith\u001b[0m \u001b[0mopen\u001b[0m\u001b[1;33m(\u001b[0m\u001b[0mfilename\u001b[0m\u001b[1;33m)\u001b[0m \u001b[1;32mas\u001b[0m \u001b[0mcsv_file\u001b[0m\u001b[1;33m:\u001b[0m\u001b[1;33m\u001b[0m\u001b[1;33m\u001b[0m\u001b[0m\n\u001b[0m\u001b[0;32m     11\u001b[0m         \u001b[0mcsv_reader\u001b[0m \u001b[1;33m=\u001b[0m \u001b[0mcsv\u001b[0m\u001b[1;33m.\u001b[0m\u001b[0mreader\u001b[0m\u001b[1;33m(\u001b[0m\u001b[0mcsv_file\u001b[0m\u001b[1;33m,\u001b[0m \u001b[0mdelimiter\u001b[0m\u001b[1;33m=\u001b[0m\u001b[1;34m','\u001b[0m\u001b[1;33m)\u001b[0m\u001b[1;33m\u001b[0m\u001b[1;33m\u001b[0m\u001b[0m\n\u001b[0;32m     12\u001b[0m         \u001b[0mline_count\u001b[0m \u001b[1;33m=\u001b[0m \u001b[1;36m0\u001b[0m\u001b[1;33m\u001b[0m\u001b[1;33m\u001b[0m\u001b[0m\n",
      "\u001b[1;31mFileNotFoundError\u001b[0m: [Errno 2] No such file or directory: 'exp+ps+0+pf+0.0+mode+carriersrep+maxIter+50+e+200+v+100+smallworld+v+100+beta+0.5+degree+2+replalgoff+NODELAY+trickle+redFactor+5+localstatssentlocalNumberMsgSent.csv'"
     ]
    }
   ],
   "source": [
    "getAreas(\"exp+ps+0+pf+0.0+mode+carriersrep+maxIter+50+e+200+v+100+smallworld+v+100+beta+0.5+degree+2+replalgoff+NODELAY+trickle+redFactor+5+localstatssentlocalNumberMsgSent.csv\")"
   ]
  },
  {
   "cell_type": "code",
   "execution_count": null,
   "metadata": {},
   "outputs": [],
   "source": []
  }
 ],
 "metadata": {
  "kernelspec": {
   "display_name": "Python 3",
   "language": "python",
   "name": "python3"
  },
  "language_info": {
   "codemirror_mode": {
    "name": "ipython",
    "version": 3
   },
   "file_extension": ".py",
   "mimetype": "text/x-python",
   "name": "python",
   "nbconvert_exporter": "python",
   "pygments_lexer": "ipython3",
   "version": "3.7.3"
  }
 },
 "nbformat": 4,
 "nbformat_minor": 2
}
