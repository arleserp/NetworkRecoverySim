{
 "cells": [
  {
   "cell_type": "code",
   "execution_count": 58,
   "metadata": {},
   "outputs": [
    {
     "name": "stdout",
     "output_type": "stream",
     "text": [
      "E:\\codes\\NetworkRecoverySim\n"
     ]
    }
   ],
   "source": [
    "import csv\n",
    "import numpy as np\n",
    "from scipy.integrate import simps\n",
    "from numpy import trapz\n",
    "\n",
    "import os\n",
    "print(os.getcwd())\n",
    "\n",
    "def getAreas(filename, rounds=1000):\n",
    "    with open(filename) as csv_file:\n",
    "        csv_reader = csv.reader(csv_file, delimiter=',')\n",
    "        line_count = 0\n",
    "        minArr = []\n",
    "        medArr = []\n",
    "        maxArr = []\n",
    "        \n",
    "        for row in csv_reader:\n",
    "            if line_count > rounds:\n",
    "                break\n",
    "            minArr.append(float(row[0]))\n",
    "            medArr.append(float(row[1]))\n",
    "            maxArr.append(float(row[2]))\n",
    "            line_count += 1\n",
    "            \n",
    "            \n",
    "        maxA = np.array(maxArr)\n",
    "\n",
    "        # Compute the area using the composite trapezoidal rule.\n",
    "        area = trapz(maxA, dx=5)\n",
    "        print(\"Max area =\", area)\n",
    "\n",
    "        # Compute the area using the composite Simpson's rule.\n",
    "        area = simps(maxA, dx=5)\n",
    "        print(\"Max area =\", area)\n",
    "\n",
    "        medA = np.array(medArr)\n",
    "\n",
    "        # Compute the area using the composite trapezoidal rule.\n",
    "        area = trapz(medA, dx=5)\n",
    "        print(\"Max area =\", area)\n",
    "\n",
    "        # Compute the area using the composite Simpson's rule.\n",
    "        area = simps(medA, dx=5)\n",
    "        print(\"Max area =\", area)\n",
    "\n",
    "        minA = np.array(minArr)\n",
    "\n",
    "        # Compute the area using the composite trapezoidal rule.\n",
    "        area = trapz(minA, dx=5)\n",
    "        print(\"Min area =\", area)\n",
    "\n",
    "        # Compute the area using the composite Simpson's rule.\n",
    "        area = simps(minA, dx=5)\n",
    "        print(\"Min area =\", area)\n"
   ]
  },
  {
   "cell_type": "code",
   "execution_count": 59,
   "metadata": {},
   "outputs": [
    {
     "name": "stdout",
     "output_type": "stream",
     "text": [
      "Max area = 111565.0\n",
      "Max area = 111041.66666666667\n",
      "Max area = 111565.0\n",
      "Max area = 111041.66666666667\n",
      "Min area = 111565.0\n",
      "Min area = 111041.66666666667\n"
     ]
    }
   ],
   "source": [
    "getAreas(\"exp+ps+0+pf+0.0+mode+carriersrep+maxIter+50+e+1273+v+512+load+replalgoff+NODELAY+trickle+redFactor+3+localstatsrecvlocalNumberMsgRecv.csv\")"
   ]
  },
  {
   "cell_type": "code",
   "execution_count": 60,
   "metadata": {},
   "outputs": [
    {
     "name": "stdout",
     "output_type": "stream",
     "text": [
      "Max area = 108860.0\n",
      "Max area = 107910.0\n",
      "Max area = 108860.0\n",
      "Max area = 107910.0\n",
      "Min area = 108860.0\n",
      "Min area = 107910.0\n"
     ]
    }
   ],
   "source": [
    "getAreas(\"exp+ps+0+pf+0.0+mode+carriersrep+maxIter+50+e+1273+v+512+load+replalgoff+NODELAY+trickle+redFactor+3+localstatssentlocalNumberMsgSent.csv\")"
   ]
  },
  {
   "cell_type": "markdown",
   "metadata": {},
   "source": [
    "    Messages Sent No Failure"
   ]
  },
  {
   "cell_type": "code",
   "execution_count": 45,
   "metadata": {},
   "outputs": [
    {
     "ename": "FileNotFoundError",
     "evalue": "[Errno 2] No such file or directory: 'exp+ps+128+pf+0.0+mode+FirstNeighbor+maxIter+50+e+1273+v+512+load+replalgoff+NODELAY+mobileAgents+redFactor+3+localstatsrecvlocalSizeMsgRecv.csv'",
     "output_type": "error",
     "traceback": [
      "\u001b[1;31m---------------------------------------------------------------------------\u001b[0m",
      "\u001b[1;31mFileNotFoundError\u001b[0m                         Traceback (most recent call last)",
      "\u001b[1;32m<ipython-input-45-bf01c06d83cc>\u001b[0m in \u001b[0;36m<module>\u001b[1;34m\u001b[0m\n\u001b[1;32m----> 1\u001b[1;33m \u001b[0mgetAreas\u001b[0m\u001b[1;33m(\u001b[0m\u001b[1;34m\"exp+ps+128+pf+0.0+mode+FirstNeighbor+maxIter+50+e+1273+v+512+load+replalgoff+NODELAY+mobileAgents+redFactor+3+localstatsrecvlocalSizeMsgRecv.csv\"\u001b[0m\u001b[1;33m)\u001b[0m\u001b[1;33m\u001b[0m\u001b[1;33m\u001b[0m\u001b[0m\n\u001b[0m",
      "\u001b[1;32m<ipython-input-30-584faee49118>\u001b[0m in \u001b[0;36mgetAreas\u001b[1;34m(filename, rounds)\u001b[0m\n\u001b[0;32m      8\u001b[0m \u001b[1;33m\u001b[0m\u001b[0m\n\u001b[0;32m      9\u001b[0m \u001b[1;32mdef\u001b[0m \u001b[0mgetAreas\u001b[0m\u001b[1;33m(\u001b[0m\u001b[0mfilename\u001b[0m\u001b[1;33m,\u001b[0m \u001b[0mrounds\u001b[0m\u001b[1;33m=\u001b[0m\u001b[1;36m1000\u001b[0m\u001b[1;33m)\u001b[0m\u001b[1;33m:\u001b[0m\u001b[1;33m\u001b[0m\u001b[1;33m\u001b[0m\u001b[0m\n\u001b[1;32m---> 10\u001b[1;33m     \u001b[1;32mwith\u001b[0m \u001b[0mopen\u001b[0m\u001b[1;33m(\u001b[0m\u001b[0mfilename\u001b[0m\u001b[1;33m)\u001b[0m \u001b[1;32mas\u001b[0m \u001b[0mcsv_file\u001b[0m\u001b[1;33m:\u001b[0m\u001b[1;33m\u001b[0m\u001b[1;33m\u001b[0m\u001b[0m\n\u001b[0m\u001b[0;32m     11\u001b[0m         \u001b[0mcsv_reader\u001b[0m \u001b[1;33m=\u001b[0m \u001b[0mcsv\u001b[0m\u001b[1;33m.\u001b[0m\u001b[0mreader\u001b[0m\u001b[1;33m(\u001b[0m\u001b[0mcsv_file\u001b[0m\u001b[1;33m,\u001b[0m \u001b[0mdelimiter\u001b[0m\u001b[1;33m=\u001b[0m\u001b[1;34m','\u001b[0m\u001b[1;33m)\u001b[0m\u001b[1;33m\u001b[0m\u001b[1;33m\u001b[0m\u001b[0m\n\u001b[0;32m     12\u001b[0m         \u001b[0mline_count\u001b[0m \u001b[1;33m=\u001b[0m \u001b[1;36m0\u001b[0m\u001b[1;33m\u001b[0m\u001b[1;33m\u001b[0m\u001b[0m\n",
      "\u001b[1;31mFileNotFoundError\u001b[0m: [Errno 2] No such file or directory: 'exp+ps+128+pf+0.0+mode+FirstNeighbor+maxIter+50+e+1273+v+512+load+replalgoff+NODELAY+mobileAgents+redFactor+3+localstatsrecvlocalSizeMsgRecv.csv'"
     ]
    }
   ],
   "source": [
    "getAreas(\"exp+ps+128+pf+0.0+mode+FirstNeighbor+maxIter+50+e+1273+v+512+load+replalgoff+NODELAY+mobileAgents+redFactor+3+localstatsrecvlocalSizeMsgRecv.csv\")"
   ]
  },
  {
   "cell_type": "code",
   "execution_count": 46,
   "metadata": {},
   "outputs": [
    {
     "name": "stdout",
     "output_type": "stream",
     "text": [
      "Max area = 2427464200.0\n",
      "Max area = 2428860575.833334\n",
      "Max area = 2427464200.0\n",
      "Max area = 2428860575.833334\n",
      "Min area = 2427464200.0\n",
      "Min area = 2428860575.833334\n"
     ]
    }
   ],
   "source": [
    "getAreas(\"exp+ps+0+pf+0.0+mode+carriersrep+maxIter+50+e+1273+v+512+load+replalgoff+NODELAY+trickle+redFactor+3+localstatsrecvlocalSizeMsgRecv.csv\")"
   ]
  },
  {
   "cell_type": "code",
   "execution_count": 15,
   "metadata": {},
   "outputs": [
    {
     "ename": "FileNotFoundError",
     "evalue": "[Errno 2] No such file or directory: 'exp+ps+0+pf+0.0+mode+carriersrep+maxIter+50+e+200+v+100+smallworld+v+100+beta+0.5+degree+2+replalgoff+NODELAY+trickle+redFactor+5+localstatssentlocalNumberMsgSent.csv'",
     "output_type": "error",
     "traceback": [
      "\u001b[1;31m---------------------------------------------------------------------------\u001b[0m",
      "\u001b[1;31mFileNotFoundError\u001b[0m                         Traceback (most recent call last)",
      "\u001b[1;32m<ipython-input-15-b7b3f8de7e88>\u001b[0m in \u001b[0;36m<module>\u001b[1;34m\u001b[0m\n\u001b[1;32m----> 1\u001b[1;33m \u001b[0mgetAreas\u001b[0m\u001b[1;33m(\u001b[0m\u001b[1;34m\"exp+ps+0+pf+0.0+mode+carriersrep+maxIter+50+e+200+v+100+smallworld+v+100+beta+0.5+degree+2+replalgoff+NODELAY+trickle+redFactor+5+localstatssentlocalNumberMsgSent.csv\"\u001b[0m\u001b[1;33m)\u001b[0m\u001b[1;33m\u001b[0m\u001b[1;33m\u001b[0m\u001b[0m\n\u001b[0m",
      "\u001b[1;32m<ipython-input-1-4345d81f7d60>\u001b[0m in \u001b[0;36mgetAreas\u001b[1;34m(filename)\u001b[0m\n\u001b[0;32m      8\u001b[0m \u001b[1;33m\u001b[0m\u001b[0m\n\u001b[0;32m      9\u001b[0m \u001b[1;32mdef\u001b[0m \u001b[0mgetAreas\u001b[0m\u001b[1;33m(\u001b[0m\u001b[0mfilename\u001b[0m\u001b[1;33m)\u001b[0m\u001b[1;33m:\u001b[0m\u001b[1;33m\u001b[0m\u001b[1;33m\u001b[0m\u001b[0m\n\u001b[1;32m---> 10\u001b[1;33m     \u001b[1;32mwith\u001b[0m \u001b[0mopen\u001b[0m\u001b[1;33m(\u001b[0m\u001b[0mfilename\u001b[0m\u001b[1;33m)\u001b[0m \u001b[1;32mas\u001b[0m \u001b[0mcsv_file\u001b[0m\u001b[1;33m:\u001b[0m\u001b[1;33m\u001b[0m\u001b[1;33m\u001b[0m\u001b[0m\n\u001b[0m\u001b[0;32m     11\u001b[0m         \u001b[0mcsv_reader\u001b[0m \u001b[1;33m=\u001b[0m \u001b[0mcsv\u001b[0m\u001b[1;33m.\u001b[0m\u001b[0mreader\u001b[0m\u001b[1;33m(\u001b[0m\u001b[0mcsv_file\u001b[0m\u001b[1;33m,\u001b[0m \u001b[0mdelimiter\u001b[0m\u001b[1;33m=\u001b[0m\u001b[1;34m','\u001b[0m\u001b[1;33m)\u001b[0m\u001b[1;33m\u001b[0m\u001b[1;33m\u001b[0m\u001b[0m\n\u001b[0;32m     12\u001b[0m         \u001b[0mline_count\u001b[0m \u001b[1;33m=\u001b[0m \u001b[1;36m0\u001b[0m\u001b[1;33m\u001b[0m\u001b[1;33m\u001b[0m\u001b[0m\n",
      "\u001b[1;31mFileNotFoundError\u001b[0m: [Errno 2] No such file or directory: 'exp+ps+0+pf+0.0+mode+carriersrep+maxIter+50+e+200+v+100+smallworld+v+100+beta+0.5+degree+2+replalgoff+NODELAY+trickle+redFactor+5+localstatssentlocalNumberMsgSent.csv'"
     ]
    }
   ],
   "source": [
    "getAreas(\"exp+ps+0+pf+0.0+mode+carriersrep+maxIter+50+e+200+v+100+smallworld+v+100+beta+0.5+degree+2+replalgoff+NODELAY+trickle+redFactor+5+localstatssentlocalNumberMsgSent.csv\")"
   ]
  },
  {
   "cell_type": "code",
   "execution_count": null,
   "metadata": {},
   "outputs": [],
   "source": []
  }
 ],
 "metadata": {
  "kernelspec": {
   "display_name": "Python 3",
   "language": "python",
   "name": "python3"
  },
  "language_info": {
   "codemirror_mode": {
    "name": "ipython",
    "version": 3
   },
   "file_extension": ".py",
   "mimetype": "text/x-python",
   "name": "python",
   "nbconvert_exporter": "python",
   "pygments_lexer": "ipython3",
   "version": "3.7.3"
  }
 },
 "nbformat": 4,
 "nbformat_minor": 2
}
